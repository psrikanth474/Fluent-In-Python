{
 "cells": [
  {
   "cell_type": "markdown",
   "metadata": {
    "deletable": true,
    "editable": true
   },
   "source": [
    "# Chapter 1. Python Data Model"
   ]
  },
  {
   "cell_type": "markdown",
   "metadata": {
    "deletable": true,
    "editable": true
   },
   "source": [
    "### Pythonic:"
   ]
  },
  {
   "cell_type": "markdown",
   "metadata": {
    "deletable": true,
    "editable": true
   },
   "source": [
    "If you have learned anotheor OOP language, if you use len(collection) instead of collection.len() --> you will find it strange. This is basically called pythonic. The iceberg is called python data model.\n",
    "\n",
    "Basically it describes the API that we can use to make our own objects play well with most idiomatic languages features. \n",
    "\n",
    "In any languages, most of the time is spent on implementing methods. Same in python, instead you call special methods call **Dunder Methods** eg: __getitem__, my_collection.__getitem__(key) \n"
   ]
  },
  {
   "cell_type": "markdown",
   "metadata": {
    "deletable": true,
    "editable": true
   },
   "source": [
    "*NamedTuple*\n",
    "[Fyi, tuples are immutable (while list is --> we can add elements to list)\n",
    "\n",
    "named tuple is basically creating a table with proper names [creating structut like object]\n",
    "\n",
    "Row = collections.namedtuple('Row', ['col1', 'col2', 'col3'])\n",
    "\n",
    "if need to add: row1 = Row('fname', 'lastname', 474) --> so created a row object of type Row \n",
    "\n",
    "row1.col1 --> will give fname ..."
   ]
  },
  {
   "cell_type": "markdown",
   "metadata": {
    "deletable": true,
    "editable": true
   },
   "source": [
    "## How Special Methods are used"
   ]
  },
  {
   "cell_type": "markdown",
   "metadata": {
    "deletable": true,
    "editable": true
   },
   "source": [
    "One way to think is, speical methods are called by python interpreter and not you\n",
    "\n",
    "Lets implement by demo -- create a class to represent two-dimensional vectors [Eccliden vectors]"
   ]
  },
  {
   "cell_type": "code",
   "execution_count": 15,
   "metadata": {
    "collapsed": false,
    "deletable": true,
    "editable": true
   },
   "outputs": [
    {
     "name": "stdout",
     "output_type": "stream",
     "text": [
      "Vector: (3,4)\n"
     ]
    }
   ],
   "source": [
    "class Vector(object):\n",
    "    \"\"\"\n",
    "    Creates two dimensional vector\n",
    "    \"\"\"\n",
    "\n",
    "    def __init__(self, x, y):\n",
    "        self.x = x\n",
    "        self.y = y\n",
    "\n",
    "    def __add__(self, other):\n",
    "        x = self.x + other.x\n",
    "        y = self.y + other.y\n",
    "        return Vector(x,y)\n",
    "\n",
    "    def __abs__(self):\n",
    "        return hypot(self.x, self.y)\n",
    "\n",
    "    def __bool__(self):\n",
    "        return bool(abs(self))\n",
    "\n",
    "    def __mul__(self, scalar):\n",
    "        return Vector(self.x * scalar, self.y * scalar)\n",
    "\n",
    "    \n",
    "    def __repr__(self):\n",
    "        return 'Vector: ({},{})'.format(self.x, self.y)\n",
    "\n",
    "v1 = Vector(3,4)\n",
    "print(v1)"
   ]
  },
  {
   "cell_type": "markdown",
   "metadata": {
    "deletable": true,
    "editable": true
   },
   "source": [
    "## Chapter Summary"
   ]
  },
  {
   "cell_type": "markdown",
   "metadata": {
    "deletable": true,
    "editable": true
   },
   "source": [
    "By implementing special methods, your objects can behave like the built in types enabling the expressive coding style the community considers pythonic "
   ]
  },
  {
   "cell_type": "markdown",
   "metadata": {
    "deletable": true,
    "editable": true
   },
   "source": [
    "# 2. Data Structures"
   ]
  },
  {
   "cell_type": "markdown",
   "metadata": {
    "deletable": true,
    "editable": true
   },
   "source": [
    "## An Array of Sequences"
   ]
  },
  {
   "cell_type": "markdown",
   "metadata": {
    "deletable": true,
    "editable": true
   },
   "source": [
    "Python standarded library offers a rich selectoin of sequence types implemented in C\n",
    " - Container sequences: list, tuple and collections.deque --> can hold items of different types\n",
    " - Flat Sequences: str, bytes, bytesarray, memoryview and array.array --> holds items of same type\n",
    " - Mutable Sequences: list, bytearray, array.arrya, collectoins.deque and memoryview\n",
    " - IMMutable Sequences: tuple, str and bytes [mutable vs immutable = falt vs container]"
   ]
  },
  {
   "cell_type": "markdown",
   "metadata": {
    "deletable": true,
    "editable": true
   },
   "source": [
    "### LIST"
   ]
  },
  {
   "cell_type": "markdown",
   "metadata": {
    "deletable": true,
    "editable": true
   },
   "source": [
    " - Its mutable & mixed type "
   ]
  },
  {
   "cell_type": "code",
   "execution_count": 10,
   "metadata": {
    "collapsed": false,
    "deletable": true,
    "editable": true
   },
   "outputs": [
    {
     "name": "stdout",
     "output_type": "stream",
     "text": [
      "[0, 1, 2, 3, 4, 5, 6, 7, 8, 9]\n"
     ]
    }
   ],
   "source": [
    "# to build list - list comprehensions basically to build list\n",
    "a = [x for x in range(0,10)]\n",
    "print(a)"
   ]
  },
  {
   "cell_type": "code",
   "execution_count": 12,
   "metadata": {
    "collapsed": false,
    "deletable": true,
    "editable": true
   },
   "outputs": [
    {
     "name": "stdout",
     "output_type": "stream",
     "text": [
      "[162, 163, 165, 8364, 164]\n"
     ]
    }
   ],
   "source": [
    "symbols = '$¢£¥€¤'\n",
    "beyond_ascii = [ord(s) for s in symbols if ord(s)>127]\n",
    "print(beyond_ascii)"
   ]
  },
  {
   "cell_type": "markdown",
   "metadata": {
    "deletable": true,
    "editable": true
   },
   "source": [
    " - Cartesian products"
   ]
  },
  {
   "cell_type": "code",
   "execution_count": 14,
   "metadata": {
    "collapsed": false,
    "deletable": true,
    "editable": true
   },
   "outputs": [
    {
     "name": "stdout",
     "output_type": "stream",
     "text": [
      "[('black', 'S'), ('black', 'M'), ('black', 'L'), ('white', 'S'), ('white', 'M'), ('white', 'L')]\n"
     ]
    }
   ],
   "source": [
    "# listcomp genertes lits form the cartesian product of two or more iterables\n",
    "colors = ['black', 'white']\n",
    "sizes = ['S', 'M', 'L']\n",
    "tshirts = [(color, size) for color in colors for size in sizes]\n",
    "print(tshirts)\n",
    "# tuple supports all list methods"
   ]
  },
  {
   "cell_type": "markdown",
   "metadata": {
    "deletable": true,
    "editable": true
   },
   "source": [
    "## Generator Expressions"
   ]
  },
  {
   "cell_type": "code",
   "execution_count": 17,
   "metadata": {
    "collapsed": false,
    "deletable": true,
    "editable": true
   },
   "outputs": [
    {
     "name": "stdout",
     "output_type": "stream",
     "text": [
      "(36, 162, 163, 165, 8364, 164)\n",
      "array('I', [36, 162, 163, 165, 8364, 164])\n"
     ]
    }
   ],
   "source": [
    "import array\n",
    "symbols = '$¢£¥€¤'\n",
    "tup = tuple(ord(symbol) for symbol in symbols)\n",
    "arr = array.array('I', (ord(symbol) for symbol in symbols))\n",
    "print(tup)\n",
    "print(arr)"
   ]
  },
  {
   "cell_type": "markdown",
   "metadata": {
    "deletable": true,
    "editable": true
   },
   "source": [
    "## *args"
   ]
  },
  {
   "cell_type": "code",
   "execution_count": 18,
   "metadata": {
    "collapsed": false,
    "deletable": true,
    "editable": true
   },
   "outputs": [
    {
     "name": "stdout",
     "output_type": "stream",
     "text": [
      "0 1 [2, 3, 4]\n"
     ]
    }
   ],
   "source": [
    "a, b, *rest = range(5)\n",
    "print(a,b,rest)"
   ]
  },
  {
   "cell_type": "markdown",
   "metadata": {
    "collapsed": true,
    "deletable": true,
    "editable": true
   },
   "source": [
    "## List Deep dive"
   ]
  },
  {
   "cell_type": "code",
   "execution_count": 48,
   "metadata": {
    "collapsed": false,
    "deletable": true,
    "editable": true
   },
   "outputs": [
    {
     "name": "stdout",
     "output_type": "stream",
     "text": [
      "after appending 1, 2\n",
      "my_list: [1, 2]\n",
      "adding [3,4] list to mylist\n",
      "my_list: [1, 2, 3, 4]\n",
      "b: [1, 2, 3, 4]\n",
      "[5, 1, 2, 3, 4]\n",
      "[5, 1, 2, 3, 4, 6, 7]\n",
      "my_list: [1, 2, 3, 4, 6, 7]\n",
      "my_list: [1, 2, 3, 4]\n",
      "my_list: [5, 1, 2, 3, 4]\n",
      "my_list: [0, 1, 2, 3, 4]\n",
      "my_list: [1, 2, 3, 2, 3, 4]\n",
      "no.of items with value \"4\" is 1\n",
      "no.of items with value \"2\" is 2\n",
      "sorted: my_list: [1, 2, 2, 3, 3, 4]\n",
      "reverse: my_list: [4, 3, 3, 2, 2, 1]\n",
      "copied list: copy_list: [4, 3, 3, 2, 2, 1]\n"
     ]
    }
   ],
   "source": [
    "#-------------------------------------------\n",
    "#############   METHODS  ################\n",
    "#--------------------------------------------\n",
    "my_list = [] #create an empty list \n",
    "my_list.append(1)\n",
    "my_list.append(2)\n",
    "print('after appending 1, 2')\n",
    "print('my_list: {}'.format(my_list))\n",
    "print('adding [3,4] list to mylist')\n",
    "my_list = my_list + [3,4]\n",
    "print('my_list: {}'.format(my_list))\n",
    "b = my_list #it will not create a copy rather both b & mylist point ot same address \n",
    "print('b: {}'.format(b))\n",
    "\n",
    "#insert element at index 0 .insert(index, element) \n",
    "my_list.insert(0, 5)\n",
    "print(my_list) # --> it will add element at index and move after elements to new index \n",
    "\n",
    "#extending list \n",
    "my_list.extend([6,7])\n",
    "print(my_list)\n",
    "\n",
    "#remove element\n",
    "my_list.remove(5)  # remove elmement by its value\n",
    "print('my_list: {}'.format(my_list))\n",
    "\n",
    "#remove element by its idnex\n",
    "my_list.pop(5)\n",
    "my_list.pop(4)\n",
    "print('my_list: {}'.format(my_list))\n",
    "\n",
    "#replace element -- always use index to replace elements\n",
    "my_list.insert(0,5)\n",
    "print('my_list: {}'.format(my_list))\n",
    "my_list[0] = 0\n",
    "print('my_list: {}'.format(my_list))\n",
    "\n",
    "#inorder to replace between range \n",
    "my_list[0:2] = [1,2,3]\n",
    "print('my_list: {}'.format(my_list))\n",
    "\n",
    "#to clear the list --my_list.clear()\n",
    "\n",
    "# count the no.of elements of value\n",
    "print('no.of items with value \"4\" is {}'.format(my_list.count(4))) # looks for value 4\n",
    "print('no.of items with value \"2\" is {}'.format(my_list.count(2)))\n",
    "\n",
    "#sort the list \n",
    "my_list.sort()\n",
    "print('sorted: my_list: {}'.format(my_list))\n",
    "\n",
    "#reverse the list\n",
    "my_list.reverse()\n",
    "print('reverse: my_list: {}'.format(my_list))\n",
    "\n",
    "#copy the list \n",
    "copy_list = my_list.copy()\n",
    "print('copied list: copy_list: {}'.format(copy_list))"
   ]
  },
  {
   "cell_type": "code",
   "execution_count": 71,
   "metadata": {
    "collapsed": false,
    "deletable": true,
    "editable": true
   },
   "outputs": [
    {
     "name": "stdout",
     "output_type": "stream",
     "text": [
      "Is list contains elements: True\n",
      "Check if all elements are true: True\n",
      "enum list contains tuple: [(0, 4), (1, 3), (2, 3), (3, 2), (4, 2), (5, 1)]\n",
      "enum list contains tuple: [Row(index=0, value=4), Row(index=1, value=3), Row(index=2, value=3), Row(index=3, value=2), Row(index=4, value=2), Row(index=5, value=1)]\n",
      "Check if all elements are true: 6\n",
      "Check if all elements are true: [Row(index=0, value=4), Row(index=1, value=3), Row(index=2, value=3), Row(index=3, value=2), Row(index=4, value=2), Row(index=5, value=1)]\n",
      "Max of my_list: 4\n",
      "Min of my_list: 1\n",
      "Sum of my_list: 15\n",
      "Sum of my_list: [1, 2, 2, 3, 3, 4]\n",
      "Sum of my_list: 2\n",
      "Sum of my_list: 4\n",
      "[('hello',), ('world',), ('1',), ('2',)]\n"
     ]
    }
   ],
   "source": [
    "#-------------------------------------------\n",
    "#############   FUNCTIONS  ################\n",
    "#--------------------------------------------\n",
    "\n",
    "# to check if its an empty list \n",
    "print('Is list contains elements: {}'.format(any(my_list)))\n",
    "\n",
    "# to chekc if all elements in list are true \n",
    "print('Check if all elements are true: {}'.format(any(my_list)))\n",
    "\n",
    "# get the index, vlaue the of the list through enumerate \n",
    "enum_list = [(index, value) for index, value in enumerate(my_list)]\n",
    "print('enum list contains tuple: {}'.format(enum_list))\n",
    "\n",
    "# lets try with named tuple\n",
    "import collections\n",
    "Row = collections.namedtuple('Row',['index', 'value'])\n",
    "enum_list_named_tuple = [Row(index, value) for index, value in enumerate(my_list)]\n",
    "print('enum list contains tuple: {}'.format(enum_list_named_tuple))\n",
    "\n",
    "# get count of list \n",
    "print('Check if all elements are true: {}'.format(len(my_list)))\n",
    "\n",
    "#convert tuple to list \n",
    "print('Check if all elements are true: {}'.format(list(enum_list_named_tuple)))\n",
    "\n",
    "# get max, min, sum \n",
    "print('Max of my_list: {}'.format(max(my_list)))\n",
    "print('Min of my_list: {}'.format(min(my_list)))\n",
    "print('Sum of my_list: {}'.format(sum(my_list)))\n",
    "\n",
    "# sorted\n",
    "print('Sum of my_list: {}'.format(sorted(my_list)))\n",
    "\n",
    "# select random element from list \n",
    "from random import choice\n",
    "print('Sum of my_list: {}'.format(choice(my_list)))\n",
    "\n",
    "# select random elements \n",
    "from random import randrange\n",
    "radomIndex = randrange(0, len(my_list))\n",
    "print('Sum of my_list: {}'.format(my_list[radomIndex]))\n"
   ]
  },
  {
   "cell_type": "markdown",
   "metadata": {
    "deletable": true,
    "editable": true
   },
   "source": [
    "# Dictionaries and Sets"
   ]
  },
  {
   "cell_type": "markdown",
   "metadata": {
    "deletable": true,
    "editable": true
   },
   "source": [
    "Hash tables are engine beyond pythons dict. Sets are also implemented using hash tables"
   ]
  },
  {
   "cell_type": "markdown",
   "metadata": {
    "deletable": true,
    "editable": true
   },
   "source": [
    "## What is Hashable"
   ]
  },
  {
   "cell_type": "markdown",
   "metadata": {
    "deletable": true,
    "editable": true
   },
   "source": [
    "An object is hashable if it has a hash value which never changes during its life time (it needs __hash__() method), and canb be compared to tohter objects (it needs an __eq__() method). Hashable object which compare equal must have the same hash value.\n",
    "\n",
    "Basically --> hash is implemented for immutable (bcz its value never changes)"
   ]
  },
  {
   "cell_type": "code",
   "execution_count": 72,
   "metadata": {
    "collapsed": false,
    "deletable": true,
    "editable": true
   },
   "outputs": [
    {
     "name": "stdout",
     "output_type": "stream",
     "text": [
      "485696759010151909\n"
     ]
    }
   ],
   "source": [
    "tt = (1,2,3,4)\n",
    "print(hash(tt))"
   ]
  },
  {
   "cell_type": "code",
   "execution_count": 74,
   "metadata": {
    "collapsed": false,
    "deletable": true,
    "editable": true
   },
   "outputs": [
    {
     "ename": "SyntaxError",
     "evalue": "invalid syntax (<ipython-input-74-9532ca2be9dc>, line 1)",
     "output_type": "error",
     "traceback": [
      "\u001b[1;36m  File \u001b[1;32m\"<ipython-input-74-9532ca2be9dc>\"\u001b[1;36m, line \u001b[1;32m1\u001b[0m\n\u001b[1;33m    t1 = (1,2,,[3,4])\u001b[0m\n\u001b[1;37m              ^\u001b[0m\n\u001b[1;31mSyntaxError\u001b[0m\u001b[1;31m:\u001b[0m invalid syntax\n"
     ]
    }
   ],
   "source": [
    "t1 = (1,2,,[3,4])\n",
    "print(hash(t1))\n",
    "# it will trough error becasue it got list and list is not immutable "
   ]
  },
  {
   "cell_type": "code",
   "execution_count": 80,
   "metadata": {
    "collapsed": false,
    "deletable": true,
    "editable": true
   },
   "outputs": [
    {
     "name": "stdout",
     "output_type": "stream",
     "text": [
      "-4118419923444501110\n",
      "-3548400018562967053\n"
     ]
    }
   ],
   "source": [
    "tf = (1,2,frozenset([30,40])) \n",
    "print(hash(tf))\n",
    "# so basically you are converte list to set by frozenset -- you cant \n",
    "\n",
    "s1 = tuple([1,2,3])\n",
    "tf1 = (1,2, s1)\n",
    "print(hash(tf1))"
   ]
  },
  {
   "cell_type": "code",
   "execution_count": 81,
   "metadata": {
    "collapsed": true,
    "deletable": true,
    "editable": true
   },
   "outputs": [],
   "source": [
    "# build dictionary \n",
    "a = dict(one=1, two=2, three=3)\n",
    "b = {'one':1, 'two': 2, 'three':3}\n",
    "c = dict(zip(['one', 'two', 'three'], [1,2,3]))\n",
    "\n",
    "# build dictionary using compreshion \n",
    "DIAL_CODES = [(86, 'China'), (91, 'INDIA')]\n",
    "country_code = {country: code for code, country in DIAL_CODES}"
   ]
  },
  {
   "cell_type": "markdown",
   "metadata": {
    "deletable": true,
    "editable": true
   },
   "source": [
    "# following are the methods for dictionary \n",
    "- clear\n",
    "- contains \n",
    "- copy \n",
    "- delitem \n",
    "- fromkeys \n",
    "- getitmes \n",
    "- keys \n"
   ]
  },
  {
   "cell_type": "markdown",
   "metadata": {
    "deletable": true,
    "editable": true
   },
   "source": [
    "# Text VS Bytes"
   ]
  },
  {
   "cell_type": "markdown",
   "metadata": {
    "deletable": true,
    "editable": true
   },
   "source": [
    "Human text vs Raw Bytes"
   ]
  },
  {
   "cell_type": "markdown",
   "metadata": {
    "deletable": true,
    "editable": true
   },
   "source": [
    "python3 --> str are unicode characters\n",
    "python2 --> str are byte sequence \n",
    "converting from code points to bytes --> enconding (UTF-16LE encoded to \\xac)\n",
    "converting from bytes to code points --> decoding "
   ]
  },
  {
   "cell_type": "code",
   "execution_count": 90,
   "metadata": {
    "collapsed": false,
    "deletable": true,
    "editable": true
   },
   "outputs": [
    {
     "name": "stdout",
     "output_type": "stream",
     "text": [
      "length of string:4\n",
      "b'caf\\xc3\\xa9'\n",
      "length of bytes :5\n"
     ]
    }
   ],
   "source": [
    "s = 'café'\n",
    "print('length of string:{}'.format(len(s)))\n",
    "b = s.encode('utf8') # str to bytes using UTF-8 encoding \n",
    "print(b)\n",
    "print('length of bytes :{}'.format(len(b))) # e is conded with two bytes in UTF-8"
   ]
  },
  {
   "cell_type": "code",
   "execution_count": 84,
   "metadata": {
    "collapsed": false,
    "deletable": true,
    "editable": true
   },
   "outputs": [
    {
     "name": "stdout",
     "output_type": "stream",
     "text": [
      "café\n"
     ]
    }
   ],
   "source": [
    "print(b.decode('utf8'))"
   ]
  },
  {
   "cell_type": "markdown",
   "metadata": {
    "deletable": true,
    "editable": true
   },
   "source": [
    "## Byte Essentials"
   ]
  },
  {
   "cell_type": "markdown",
   "metadata": {
    "deletable": true,
    "editable": true
   },
   "source": [
    "# First Class Functions"
   ]
  },
  {
   "cell_type": "markdown",
   "metadata": {
    "deletable": true,
    "editable": true
   },
   "source": [
    "Functions in python are first class objects. which means:\n",
    " - Created at run time \n",
    " - Assigned to a variable or element in data structure \n",
    " - Passed as an argument to a function \n",
    " - Returned as the result of a function\n",
    " Similarly integers, strings and dictionaries are other examples of first-class objects in python"
   ]
  },
  {
   "cell_type": "markdown",
   "metadata": {
    "deletable": true,
    "editable": true
   },
   "source": [
    "first class objects ? \n",
    " - There are no restrictions on the usage of the object Same as any other object. Most of the times, this just means you can pass these first-class citizens as arguments to functions, or return them from functions. [See below code where factorial function is passed as an arguement]\n",
    "\n",
    "Note: Refer this wonderful article for more info: http://www.i-programmer.info/programming/theory/5933-what-exactly-is-a-first-class-function-and-why-you-should-care.html"
   ]
  },
  {
   "cell_type": "code",
   "execution_count": 7,
   "metadata": {
    "collapsed": false,
    "deletable": true,
    "editable": true
   },
   "outputs": [
    {
     "name": "stdout",
     "output_type": "stream",
     "text": [
      "<function foo at 0x0000000004B116A8>\n",
      "3\n",
      "<class 'function'>\n",
      "4\n"
     ]
    }
   ],
   "source": [
    "# First class object example\n",
    "def foo(bar):\n",
    "    return bar + 1\n",
    "\n",
    "print(foo)\n",
    "print(foo(2))\n",
    "print(type(foo))\n",
    "\n",
    "\n",
    "def call_foo_with_arg(foo, arg):\n",
    "    return foo(arg)\n",
    "\n",
    "print(call_foo_with_arg(foo, 3))"
   ]
  },
  {
   "cell_type": "markdown",
   "metadata": {
    "deletable": true,
    "editable": true
   },
   "source": [
    "## Treating a Function Like an Object"
   ]
  },
  {
   "cell_type": "code",
   "execution_count": 8,
   "metadata": {
    "collapsed": false,
    "deletable": true,
    "editable": true
   },
   "outputs": [
    {
     "name": "stdout",
     "output_type": "stream",
     "text": [
      "1405006117752879898543142606244511569936384000000000\n",
      "return n!\n",
      "<class 'function'>\n"
     ]
    }
   ],
   "source": [
    "# lets create a function, call it, read its __doc__ attribute and \n",
    "# check that the function object itself is an instance of the function class\n",
    "def factorial(n):\n",
    "    '''return n!'''\n",
    "    return 1 if n <2 else n * factorial(n-1)\n",
    "\n",
    "print(factorial(42))\n",
    "\n",
    "#  __doc__ is one of several attributes of function objects. \n",
    "print(factorial.__doc__)\n",
    "\n",
    "# factorial is an instance of the function class\n",
    "print(type(factorial))"
   ]
  },
  {
   "cell_type": "code",
   "execution_count": 5,
   "metadata": {
    "collapsed": false,
    "deletable": true,
    "editable": true
   },
   "outputs": [
    {
     "data": {
      "text/plain": [
       "<map at 0x4b1b278>"
      ]
     },
     "execution_count": 5,
     "metadata": {},
     "output_type": "execute_result"
    }
   ],
   "source": [
    "# demonstrating above first class nature\n",
    "map(factorial, range(11))"
   ]
  },
  {
   "cell_type": "markdown",
   "metadata": {},
   "source": [
    "Having first-class functions enables programming in a functional style"
   ]
  },
  {
   "cell_type": "markdown",
   "metadata": {
    "deletable": true,
    "editable": true
   },
   "source": [
    "## Higher Order Function"
   ]
  },
  {
   "cell_type": "markdown",
   "metadata": {
    "deletable": true,
    "editable": true
   },
   "source": [
    "A function that takes function as an argument and return as function. Above map is the perfect example. "
   ]
  },
  {
   "cell_type": "code",
   "execution_count": 1,
   "metadata": {
    "collapsed": false
   },
   "outputs": [
    {
     "name": "stdout",
     "output_type": "stream",
     "text": [
      "['fig', 'apple', 'cherry', 'strawberry']\n"
     ]
    }
   ],
   "source": [
    "# below is the example of higher order function \n",
    "\n",
    "fruits = ['strawberry', 'fig', 'apple', 'cherry']\n",
    "# passing len func as key\n",
    "print(sorted(fruits, key=len))"
   ]
  },
  {
   "cell_type": "code",
   "execution_count": 2,
   "metadata": {
    "collapsed": false
   },
   "outputs": [
    {
     "name": "stdout",
     "output_type": "stream",
     "text": [
      "['apple', 'fig', 'strawberry', 'cherry']\n"
     ]
    }
   ],
   "source": [
    "# another exmaple \n",
    "def reverse(word):\n",
    "    return word[::-1]\n",
    "\n",
    "print(sorted(fruits, key=reverse))"
   ]
  },
  {
   "cell_type": "markdown",
   "metadata": {},
   "source": [
    "In python, some of thebest known hihger ordrer functions are: map, filter, reduce, apply"
   ]
  },
  {
   "cell_type": "markdown",
   "metadata": {},
   "source": [
    "But map and filter find less important in python>3+. Due to listcomp or gen exp wich does the job of map and filter"
   ]
  },
  {
   "cell_type": "markdown",
   "metadata": {
    "deletable": true,
    "editable": true
   },
   "source": [
    "## Anonymous Function (lambda)"
   ]
  },
  {
   "cell_type": "markdown",
   "metadata": {
    "deletable": true,
    "editable": true
   },
   "source": [
    "The lambda keyword creates an anonymous within a python expression. However, the simple syntax of python limits the body of lambda functions to be pure expressions. In other words, the body of a lambda cannot make assignments or use any other python statement such as while, try etc. "
   ]
  },
  {
   "cell_type": "code",
   "execution_count": 5,
   "metadata": {
    "collapsed": false
   },
   "outputs": [
    {
     "name": "stdout",
     "output_type": "stream",
     "text": [
      "['apple', 'fig', 'strawberry', 'cherry']\n"
     ]
    }
   ],
   "source": [
    "# lambda usage example \n",
    "# above reverse function written in lambda \n",
    "print(sorted(fruits, key=lambda word: word[::-1]))"
   ]
  },
  {
   "cell_type": "markdown",
   "metadata": {
    "deletable": true,
    "editable": true
   },
   "source": [
    "## Callable Object"
   ]
  },
  {
   "cell_type": "markdown",
   "metadata": {
    "deletable": true,
    "editable": true
   },
   "source": [
    "Any object called with callable opeartor (()). There are seven flavours of callable objects\n",
    " -  User-defined functions: Created with def statement or lambda experssion \n",
    " -  Built-in functions: a function implment in C eg: len \n",
    " -  BUilt-in methods: Methods implemented in C, like dict.get  \n",
    " -  Methods: Functions defined in the body of class \n",
    " -  Classes: When invoked, a class run its __new__ method to create an instance, then __init__ to initialize it, and finally the instance is returned to the caller. Because there is no new operator in python, calling a class is like calling a function. \n",
    " -  Class instances: If a class defines a __call__ method, then its instances may be invoked as functions\n",
    " -  Generator function: funcs or method that use the yield keyword. \n",
    " \n",
    " Note: Every callable supports the same rich syntax for declaring formal parameters, including keyword-only parameters and annotations—both new features introduced with Python 3."
   ]
  },
  {
   "cell_type": "code",
   "execution_count": 10,
   "metadata": {
    "collapsed": false
   },
   "outputs": [
    {
     "name": "stdout",
     "output_type": "stream",
     "text": [
      "['__call__', '__class__', '__delattr__', '__dict__', '__dir__', '__doc__', '__eq__', '__format__', '__ge__', '__getattribute__', '__gt__', '__hash__', '__init__', '__le__', '__lt__', '__module__', '__ne__', '__new__', '__reduce__', '__reduce_ex__', '__repr__', '__setattr__', '__sizeof__', '__str__', '__subclasshook__', '__weakref__', '_items', 'pick']\n"
     ]
    }
   ],
   "source": [
    "# example of call method implement in a class \n",
    "\n",
    "import random \n",
    "class BingoCage:\n",
    "    def __init__(self, items):\n",
    "        #convert iterable to list \n",
    "        self._items = list(items)\n",
    "        random.shuffle(self._items)\n",
    "    \n",
    "    # this is the main method --> refer below __call__ method \n",
    "    def pick(self):\n",
    "        return self._items.pop()\n",
    "    \n",
    "    def __call__(self):\n",
    "        return self.pick()\n",
    "\n",
    "bingo = BingoCage(range(3))\n",
    "bingo()\n",
    "# list the attributes\n",
    "print(dir(bingo))"
   ]
  },
  {
   "cell_type": "markdown",
   "metadata": {},
   "source": [
    "# Parameter Handling"
   ]
  },
  {
   "cell_type": "markdown",
   "metadata": {},
   "source": [
    "Moving from positional handling to keyword only parameters. \n"
   ]
  },
  {
   "cell_type": "code",
   "execution_count": 19,
   "metadata": {
    "collapsed": false
   },
   "outputs": [
    {
     "name": "stdout",
     "output_type": "stream",
     "text": [
      "{'content': (), 'name': 'br', 'attrs': {}, 'cls': None}\n",
      "{'content': ('hello',), 'name': 'p', 'attrs': {}, 'cls': None}\n",
      "{'content': ('hello',), 'name': 'p', 'attrs': {'id': 33}, 'cls': None}\n",
      "{'content': ('hello', 'world'), 'name': 'p', 'attrs': {}, 'cls': 'sidebar'}\n",
      "{'content': ('hello', 'world'), 'name': 'p', 'attrs': {'font': 'times', 'id': 33}, 'cls': 'sidebar'}\n"
     ]
    }
   ],
   "source": [
    "# example of parameter handling \n",
    "# name --> single positional argument \n",
    "# *content -> any number of arguments after the first are captured by *content as tuple\n",
    "# **attrs --> keyword arguments not explicitly named in the tag are caputred by **attrs as a dict \n",
    "# cls --. can only passed as keyword argument\n",
    "def tag(name, *content, cls=None, **attrs):\n",
    "    print(locals())\n",
    "  \n",
    "tag('br') # name =br\n",
    "tag('p', 'hello') # name=br, content=(hello)\n",
    "tag('p', 'hello', id=33) # name=p, content=(hello), attrs={id:33}\n",
    "tag('p', 'hello', 'world', cls='sidebar') # name=p, content=(hello, world), cls='sidebar\n",
    "tag('p', 'hello', 'world', cls='sidebar', id=33, font='times')"
   ]
  },
  {
   "cell_type": "code",
   "execution_count": 20,
   "metadata": {
    "collapsed": false
   },
   "outputs": [
    {
     "name": "stdout",
     "output_type": "stream",
     "text": [
      "(items)\n"
     ]
    }
   ],
   "source": [
    "# extracting the function signature \n",
    "from inspect import signature \n",
    "print(signature(BingoCage))"
   ]
  },
  {
   "cell_type": "markdown",
   "metadata": {
    "deletable": true,
    "editable": true
   },
   "source": [
    "## Function Annotation"
   ]
  },
  {
   "cell_type": "markdown",
   "metadata": {
    "deletable": true,
    "editable": true
   },
   "source": [
    "Provides syntax to attach metadata to the parameters of a function declaratoin and its return value "
   ]
  },
  {
   "cell_type": "code",
   "execution_count": 21,
   "metadata": {
    "collapsed": true
   },
   "outputs": [],
   "source": [
    "# annotated function declaration\n",
    "def clip(text:str, max_len:'int>0=80') -> str:\n",
    "    \"\"\"Return text clipped at the space before before or after max_len\"\"\"\n",
    "    end = None\n",
    "    if len(text) > max_len:\n",
    "        space_before = text.rfind(' ',0, max_len)\n",
    "        if space_before >=0 :\n",
    "            end = space_before \n",
    "        else:\n",
    "            space_after = text.rfind(' ', max_len)\n",
    "            if space_after >=0:\n",
    "                end = space_after\n",
    "    if end is None:\n",
    "        end = len(text)\n",
    "    return text[:end].rstrip()"
   ]
  },
  {
   "cell_type": "code",
   "execution_count": 25,
   "metadata": {
    "collapsed": false
   },
   "outputs": [
    {
     "name": "stdout",
     "output_type": "stream",
     "text": [
      "None\n",
      "(text:str, max_len:'int>0=80') -> str\n",
      "{'return': <class 'str'>, 'text': <class 'str'>, 'max_len': 'int>0=80'}\n"
     ]
    }
   ],
   "source": [
    "print(clip.__defaults__)\n",
    "print(signature(clip))\n",
    "print(clip.__annotations__)"
   ]
  },
  {
   "cell_type": "markdown",
   "metadata": {},
   "source": [
    "## Design Patterns with First-Class Functions"
   ]
  },
  {
   "cell_type": "code",
   "execution_count": null,
   "metadata": {
    "collapsed": true
   },
   "outputs": [],
   "source": []
  },
  {
   "cell_type": "markdown",
   "metadata": {
    "deletable": true,
    "editable": true
   },
   "source": [
    "# Iteration"
   ]
  },
  {
   "cell_type": "markdown",
   "metadata": {
    "deletable": true,
    "editable": true
   },
   "source": [
    "Iteration is fundamental to data processing. And when scanning datasets that don't fit in memory, we need a way to fetch them lazily that is one at time and on demand. This is what the iterator pattern is about"
   ]
  },
  {
   "cell_type": "markdown",
   "metadata": {
    "deletable": true,
    "editable": true
   },
   "source": [
    "Python sequence is iterable: they all implement __getitem__. But going forward always impleent __iter__\n",
    "\n",
    "Note:  \n",
    " - if a class implements the __iter__ method. No subclassing or registration is required, because abc.Iterable implements the __subclasshook__\n",
    " - to check if class implemented __iter__ method. Just issue iter(class)"
   ]
  },
  {
   "cell_type": "markdown",
   "metadata": {
    "collapsed": true,
    "deletable": true,
    "editable": true
   },
   "source": [
    "# Decotrators"
   ]
  },
  {
   "cell_type": "markdown",
   "metadata": {},
   "source": [
    "A decorator is a callable that takes another function as argument. "
   ]
  },
  {
   "cell_type": "code",
   "execution_count": 29,
   "metadata": {
    "collapsed": false
   },
   "outputs": [
    {
     "name": "stdout",
     "output_type": "stream",
     "text": [
      "i am at the decorator, called by f1\n",
      "i am at the decorator, called by f2\n",
      "register contains [<function f1 at 0x0000000004CB48C8>, <function f2 at 0x0000000004CE02F0>]\n",
      "running f1()\n",
      "running f2()\n",
      "running f3()\n"
     ]
    }
   ],
   "source": [
    "# decorators are exeucted when module is loaded thats why its \n",
    "register = []\n",
    "def decorate(func):\n",
    "    print('i am at the decorator, called by {}'.format(func.__name__))\n",
    "    register.append(func)\n",
    "    return func\n",
    "\n",
    "@decorate\n",
    "def f1():\n",
    "    print('running f1()')\n",
    "\n",
    "@decorate\n",
    "def f2():\n",
    "    print('running f2()')\n",
    "    \n",
    "def f3():\n",
    "    print('running f3()')\n",
    "\n",
    "print('register contains', register)\n",
    "f1()\n",
    "f2()\n",
    "f3()"
   ]
  },
  {
   "cell_type": "code",
   "execution_count": 31,
   "metadata": {
    "collapsed": false
   },
   "outputs": [
    {
     "name": "stdout",
     "output_type": "stream",
     "text": [
      "i am at the decorator, called by f1\n",
      "i am at the decorator, called by f2\n",
      "register contains [<function f1 at 0x0000000004CB4D90>, <function f2 at 0x0000000004C9A950>]\n",
      "i am at the decorator inner func\n",
      "i am at the decorator inner func\n",
      "running f3()\n"
     ]
    }
   ],
   "source": [
    "# the above example is modified to show the behavior change of f1,f2 --> modified to hold decorator inner_func\n",
    "register = []\n",
    "def decorate(func):\n",
    "    print('i am at the decorator, called by {}'.format(func.__name__))\n",
    "    register.append(func)\n",
    "    def inner_func():\n",
    "        print('i am at the decorator inner func')\n",
    "    return inner_func\n",
    "\n",
    "@decorate\n",
    "def f1():\n",
    "    print('running f1()')\n",
    "\n",
    "@decorate\n",
    "def f2():\n",
    "    print('running f2()')\n",
    "    \n",
    "def f3():\n",
    "    print('running f3()')\n",
    "\n",
    "print('register contains', register)\n",
    "f1()\n",
    "f2()\n",
    "f3()"
   ]
  },
  {
   "cell_type": "markdown",
   "metadata": {},
   "source": [
    "The main point above is to emphasize that function decorators are executed as soon as the module is imported but the decorated functiosn only run when they are explicity invoked. This highlihgts the differnce between what pythonistas call import time and run time "
   ]
  },
  {
   "cell_type": "markdown",
   "metadata": {},
   "source": [
    "## Closures"
   ]
  },
  {
   "cell_type": "markdown",
   "metadata": {},
   "source": [
    "Clouser only matters when you have nested functions. So, a closure is a function with an extended scope that encompasses nonglobal variables referenced n the body of the function but not defined there  "
   ]
  },
  {
   "cell_type": "code",
   "execution_count": null,
   "metadata": {
    "collapsed": true
   },
   "outputs": [],
   "source": []
  }
 ],
 "metadata": {
  "anaconda-cloud": {},
  "kernelspec": {
   "display_name": "Python [default]",
   "language": "python",
   "name": "python3"
  },
  "language_info": {
   "codemirror_mode": {
    "name": "ipython",
    "version": 3
   },
   "file_extension": ".py",
   "mimetype": "text/x-python",
   "name": "python",
   "nbconvert_exporter": "python",
   "pygments_lexer": "ipython3",
   "version": "3.5.3"
  }
 },
 "nbformat": 4,
 "nbformat_minor": 2
}
